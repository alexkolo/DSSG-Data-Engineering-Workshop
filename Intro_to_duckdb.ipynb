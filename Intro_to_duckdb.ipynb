{
 "cells": [
  {
   "cell_type": "markdown",
   "metadata": {},
   "source": [
    "# Introduction to DuckDB\n",
    "\n",
    "[DuckDB](https://duckdb.org/) is an open-source analytical SQL database management system designed for high performance and efficiency. It's built to excel in handling complex analytical queries on large volumes of data while maintaining a lightweight footprint. DuckDB is known for its exceptional speed in executing queries and its ability to operate seamlessly within various environments, from laptops to large-scale server setups.\n",
    "\n",
    "One of its standout features is its support for standard SQL queries, making it accessible to users familiar with SQL syntax. Additionally, DuckDB is optimized for read-heavy workloads, making it an ideal choice for data exploration, analytics, and research purposes.\n",
    "\n",
    "DuckDB also provides integration with popular data science tools like Jupyter Notebooks and Pandas, facilitating a smooth workflow for analysts and data scientists. Its compatibility with Jupyter Notebooks allows for an interactive and collaborative environment where users can harness DuckDB's power alongside their code and analysis.\n",
    "\n",
    "Moreover, DuckDB's integration with Pandas simplifies data manipulation and analysis. It enables the execution of SQL queries directly on Pandas DataFrames, providing a familiar interface for those comfortable with Pandas while leveraging DuckDB's speed and efficiency for data processing.\n",
    "\n",
    "Another notable aspect is that it can handle various data formats such as CSV, Parquet, and others. And let's you interact with these formats through SQL queries streamlines the process of querying and analyzing diverse data sources without the need for extensive data preprocessing.\n",
    "\n",
    "So DuckDB offers a user-friendly environment for data exploration, analysis, and manipulation.\n",
    "\n",
    "To get started let's import duckdb and pandas. To be able to convert jupyter notebook cells to sql cells we need to also load the jupysql extension."
   ]
  },
  {
   "cell_type": "code",
   "execution_count": 1,
   "metadata": {},
   "outputs": [
    {
     "data": {
      "text/html": [
       "<span style=\"None\">The &#x27;toml&#x27; package isn&#x27;t installed. To load settings from pyproject.toml or ~/.jupysql/config, install with: pip install toml</span>"
      ],
      "text/plain": [
       "The 'toml' package isn't installed. To load settings from pyproject.toml or ~/.jupysql/config, install with: pip install toml"
      ]
     },
     "metadata": {},
     "output_type": "display_data"
    }
   ],
   "source": [
    "import duckdb\n",
    "import pandas as pd\n",
    "import json\n",
    "\n",
    "# Import jupysql Jupyter extension to create SQL cells\n",
    "%load_ext sql"
   ]
  },
  {
   "cell_type": "code",
   "execution_count": null,
   "metadata": {},
   "outputs": [],
   "source": []
  },
  {
   "cell_type": "markdown",
   "metadata": {},
   "source": [
    "### Configure the notebook\n",
    "Set configrations on the ipython sql extension to directly output data to Pandas and to simplify the output that is printed to the notebook."
   ]
  },
  {
   "cell_type": "code",
   "execution_count": 2,
   "metadata": {},
   "outputs": [
    {
     "name": "stderr",
     "output_type": "stream",
     "text": [
      "/Users/eikerogall/Documents/Projects/DSSG-Data-Engineering-Workshop/.venv/lib/python3.11/site-packages/IPython/core/interactiveshell.py:3493: UserWarning: Config option `autopandAS` not recognized by `SqlMagic`.  Did you mean one of: `autopandas, autopolars`?\n",
      "  if await self.run_code(code, result, async_=asy):\n"
     ]
    }
   ],
   "source": [
    "%config SqlMagic.autopandAS = True\n",
    "%config SqlMagic.feedback = False\n",
    "%config SqlMagic.displaycon = False"
   ]
  },
  {
   "cell_type": "markdown",
   "metadata": {},
   "source": [
    "### Connect to a DuckDB database\n",
    "Connect to a DuckDB Database using a SQLAlchemy-style connection string. You may either connect to an in memory DuckDB, or a file backed db."
   ]
  },
  {
   "cell_type": "code",
   "execution_count": 3,
   "metadata": {},
   "outputs": [],
   "source": [
    "%sql duckdb:///duckdb_db/sampleDB.duckdb"
   ]
  },
  {
   "cell_type": "markdown",
   "metadata": {},
   "source": [
    "## Loading data\n",
    "\n",
    "We have two files in our data directory:\n",
    "- pokemon__donations.json\n",
    "- pokemon__masterdata.csv\n",
    "\n",
    "### Load a json file into duckdb\n",
    "\n",
    "So we will see how we can use DuckDB on json and csv files. let's start with the json. Here we will create a pandas dataframe first and than load that into the database."
   ]
  },
  {
   "cell_type": "code",
   "execution_count": 4,
   "metadata": {},
   "outputs": [
    {
     "data": {
      "text/html": [
       "<div>\n",
       "<style scoped>\n",
       "    .dataframe tbody tr th:only-of-type {\n",
       "        vertical-align: middle;\n",
       "    }\n",
       "\n",
       "    .dataframe tbody tr th {\n",
       "        vertical-align: top;\n",
       "    }\n",
       "\n",
       "    .dataframe thead th {\n",
       "        text-align: right;\n",
       "    }\n",
       "</style>\n",
       "<table border=\"1\" class=\"dataframe\">\n",
       "  <thead>\n",
       "    <tr style=\"text-align: right;\">\n",
       "      <th></th>\n",
       "      <th>pokemon_id</th>\n",
       "      <th>donation_date</th>\n",
       "      <th>donation_number_of_pokemon</th>\n",
       "      <th>donation_amount_eur</th>\n",
       "    </tr>\n",
       "  </thead>\n",
       "  <tbody>\n",
       "    <tr>\n",
       "      <th>0</th>\n",
       "      <td>195</td>\n",
       "      <td>2023-12-21</td>\n",
       "      <td>4</td>\n",
       "      <td>85.60</td>\n",
       "    </tr>\n",
       "    <tr>\n",
       "      <th>1</th>\n",
       "      <td>251</td>\n",
       "      <td>2023-12-28</td>\n",
       "      <td>74</td>\n",
       "      <td>6569.72</td>\n",
       "    </tr>\n",
       "    <tr>\n",
       "      <th>2</th>\n",
       "      <td>27</td>\n",
       "      <td>2023-12-30</td>\n",
       "      <td>24</td>\n",
       "      <td>1734.24</td>\n",
       "    </tr>\n",
       "    <tr>\n",
       "      <th>3</th>\n",
       "      <td>267</td>\n",
       "      <td>2023-12-13</td>\n",
       "      <td>36</td>\n",
       "      <td>3584.16</td>\n",
       "    </tr>\n",
       "    <tr>\n",
       "      <th>4</th>\n",
       "      <td>511</td>\n",
       "      <td>2023-12-06</td>\n",
       "      <td>74</td>\n",
       "      <td>2797.20</td>\n",
       "    </tr>\n",
       "  </tbody>\n",
       "</table>\n",
       "</div>"
      ],
      "text/plain": [
       "   pokemon_id donation_date  donation_number_of_pokemon  donation_amount_eur\n",
       "0         195    2023-12-21                           4                85.60\n",
       "1         251    2023-12-28                          74              6569.72\n",
       "2          27    2023-12-30                          24              1734.24\n",
       "3         267    2023-12-13                          36              3584.16\n",
       "4         511    2023-12-06                          74              2797.20"
      ]
     },
     "execution_count": 4,
     "metadata": {},
     "output_type": "execute_result"
    }
   ],
   "source": [
    "df_donations = pd.read_json('data/pokemon__donations.json', orient='records')\n",
    "df_donations.head()"
   ]
  },
  {
   "cell_type": "markdown",
   "metadata": {},
   "source": [
    "With duckdb we now can query this dataframe using SQL."
   ]
  },
  {
   "cell_type": "code",
   "execution_count": 7,
   "metadata": {},
   "outputs": [
    {
     "data": {
      "text/html": [
       "<table>\n",
       "    <thead>\n",
       "        <tr>\n",
       "            <th>pokemon_id</th>\n",
       "            <th>donation_date</th>\n",
       "            <th>donation_number_of_pokemon</th>\n",
       "            <th>donation_amount_eur</th>\n",
       "        </tr>\n",
       "    </thead>\n",
       "    <tbody>\n",
       "        <tr>\n",
       "            <td>251</td>\n",
       "            <td>2023-12-28</td>\n",
       "            <td>74</td>\n",
       "            <td>6569.72</td>\n",
       "        </tr>\n",
       "        <tr>\n",
       "            <td>27</td>\n",
       "            <td>2023-12-30</td>\n",
       "            <td>24</td>\n",
       "            <td>1734.24</td>\n",
       "        </tr>\n",
       "        <tr>\n",
       "            <td>267</td>\n",
       "            <td>2023-12-13</td>\n",
       "            <td>36</td>\n",
       "            <td>3584.16</td>\n",
       "        </tr>\n",
       "        <tr>\n",
       "            <td>511</td>\n",
       "            <td>2023-12-06</td>\n",
       "            <td>74</td>\n",
       "            <td>2797.2</td>\n",
       "        </tr>\n",
       "        <tr>\n",
       "            <td>430</td>\n",
       "            <td>2023-12-02</td>\n",
       "            <td>77</td>\n",
       "            <td>6303.99</td>\n",
       "        </tr>\n",
       "        <tr>\n",
       "            <td>458</td>\n",
       "            <td>2023-12-13</td>\n",
       "            <td>70</td>\n",
       "            <td>5184.2</td>\n",
       "        </tr>\n",
       "        <tr>\n",
       "            <td>719</td>\n",
       "            <td>2023-12-23</td>\n",
       "            <td>18</td>\n",
       "            <td>1312.56</td>\n",
       "        </tr>\n",
       "        <tr>\n",
       "            <td>194</td>\n",
       "            <td>2023-12-18</td>\n",
       "            <td>55</td>\n",
       "            <td>3502.95</td>\n",
       "        </tr>\n",
       "        <tr>\n",
       "            <td>799</td>\n",
       "            <td>2023-12-25</td>\n",
       "            <td>58</td>\n",
       "            <td>4409.16</td>\n",
       "        </tr>\n",
       "        <tr>\n",
       "            <td>520</td>\n",
       "            <td>2023-12-21</td>\n",
       "            <td>48</td>\n",
       "            <td>2317.92</td>\n",
       "        </tr>\n",
       "    </tbody>\n",
       "</table>\n",
       "<span style=\"font-style:italic;text-align:center;\">Truncated to <a href=\"https://jupysql.ploomber.io/en/latest/api/configuration.html#displaylimit\">displaylimit</a> of 10.</span>"
      ],
      "text/plain": [
       "+------------+---------------+----------------------------+---------------------+\n",
       "| pokemon_id | donation_date | donation_number_of_pokemon | donation_amount_eur |\n",
       "+------------+---------------+----------------------------+---------------------+\n",
       "|    251     |   2023-12-28  |             74             |       6569.72       |\n",
       "|     27     |   2023-12-30  |             24             |       1734.24       |\n",
       "|    267     |   2023-12-13  |             36             |       3584.16       |\n",
       "|    511     |   2023-12-06  |             74             |        2797.2       |\n",
       "|    430     |   2023-12-02  |             77             |       6303.99       |\n",
       "|    458     |   2023-12-13  |             70             |        5184.2       |\n",
       "|    719     |   2023-12-23  |             18             |       1312.56       |\n",
       "|    194     |   2023-12-18  |             55             |       3502.95       |\n",
       "|    799     |   2023-12-25  |             58             |       4409.16       |\n",
       "|    520     |   2023-12-21  |             48             |       2317.92       |\n",
       "+------------+---------------+----------------------------+---------------------+\n",
       "Truncated to displaylimit of 10."
      ]
     },
     "execution_count": 7,
     "metadata": {},
     "output_type": "execute_result"
    }
   ],
   "source": [
    "%%sql\n",
    "\n",
    "Select * from df_donations\n",
    "where donation_amount_eur > 1000;"
   ]
  },
  {
   "cell_type": "markdown",
   "metadata": {},
   "source": [
    "Or we can quite easily create a table from this dataframe in a duckdb database with duckdb:"
   ]
  },
  {
   "cell_type": "code",
   "execution_count": 5,
   "metadata": {},
   "outputs": [
    {
     "data": {
      "text/html": [
       "<table>\n",
       "    <thead>\n",
       "        <tr>\n",
       "            <th>Count</th>\n",
       "        </tr>\n",
       "    </thead>\n",
       "    <tbody>\n",
       "    </tbody>\n",
       "</table>"
      ],
      "text/plain": [
       "+-------+\n",
       "| Count |\n",
       "+-------+\n",
       "+-------+"
      ]
     },
     "execution_count": 5,
     "metadata": {},
     "output_type": "execute_result"
    }
   ],
   "source": [
    "%%sql\n",
    "CREATE TABLE pokemon__donations AS SELECT * FROM df_donations"
   ]
  },
  {
   "cell_type": "markdown",
   "metadata": {},
   "source": [
    "### Load a csv file into duckdb\n",
    "\n",
    "But we can also load a csv file directly into duckdb. "
   ]
  },
  {
   "cell_type": "code",
   "execution_count": 10,
   "metadata": {},
   "outputs": [
    {
     "data": {
      "text/html": [
       "<table>\n",
       "    <thead>\n",
       "        <tr>\n",
       "            <th>pokemon_id</th>\n",
       "            <th>pokemon_name</th>\n",
       "            <th>pokemon_type</th>\n",
       "        </tr>\n",
       "    </thead>\n",
       "    <tbody>\n",
       "        <tr>\n",
       "            <td>1</td>\n",
       "            <td>Bulbasaur</td>\n",
       "            <td>grass</td>\n",
       "        </tr>\n",
       "        <tr>\n",
       "            <td>2</td>\n",
       "            <td>Ivysaur</td>\n",
       "            <td>grass</td>\n",
       "        </tr>\n",
       "        <tr>\n",
       "            <td>3</td>\n",
       "            <td>Venusaur</td>\n",
       "            <td>grass</td>\n",
       "        </tr>\n",
       "        <tr>\n",
       "            <td>4</td>\n",
       "            <td>Charmander</td>\n",
       "            <td>fire</td>\n",
       "        </tr>\n",
       "        <tr>\n",
       "            <td>5</td>\n",
       "            <td>Charmeleon</td>\n",
       "            <td>fire</td>\n",
       "        </tr>\n",
       "        <tr>\n",
       "            <td>6</td>\n",
       "            <td>Charizard</td>\n",
       "            <td>fire</td>\n",
       "        </tr>\n",
       "        <tr>\n",
       "            <td>7</td>\n",
       "            <td>Squirtle</td>\n",
       "            <td>water</td>\n",
       "        </tr>\n",
       "        <tr>\n",
       "            <td>8</td>\n",
       "            <td>Wartortle</td>\n",
       "            <td>water</td>\n",
       "        </tr>\n",
       "        <tr>\n",
       "            <td>9</td>\n",
       "            <td>Blastoise</td>\n",
       "            <td>water</td>\n",
       "        </tr>\n",
       "        <tr>\n",
       "            <td>10</td>\n",
       "            <td>Caterpie</td>\n",
       "            <td>bug</td>\n",
       "        </tr>\n",
       "    </tbody>\n",
       "</table>\n",
       "<span style=\"font-style:italic;text-align:center;\">Truncated to <a href=\"https://jupysql.ploomber.io/en/latest/api/configuration.html#displaylimit\">displaylimit</a> of 10.</span>"
      ],
      "text/plain": [
       "+------------+--------------+--------------+\n",
       "| pokemon_id | pokemon_name | pokemon_type |\n",
       "+------------+--------------+--------------+\n",
       "|     1      |  Bulbasaur   |    grass     |\n",
       "|     2      |   Ivysaur    |    grass     |\n",
       "|     3      |   Venusaur   |    grass     |\n",
       "|     4      |  Charmander  |     fire     |\n",
       "|     5      |  Charmeleon  |     fire     |\n",
       "|     6      |  Charizard   |     fire     |\n",
       "|     7      |   Squirtle   |    water     |\n",
       "|     8      |  Wartortle   |    water     |\n",
       "|     9      |  Blastoise   |    water     |\n",
       "|     10     |   Caterpie   |     bug      |\n",
       "+------------+--------------+--------------+\n",
       "Truncated to displaylimit of 10."
      ]
     },
     "execution_count": 10,
     "metadata": {},
     "output_type": "execute_result"
    }
   ],
   "source": [
    "%%sql\n",
    "\n",
    "SELECT * FROM 'data/pokemon__masterdata.csv';"
   ]
  },
  {
   "cell_type": "markdown",
   "metadata": {},
   "source": [
    "And of course we also can create a table in the duckdb database. We can do this with the COPY command. First we create the table:"
   ]
  },
  {
   "cell_type": "code",
   "execution_count": 8,
   "metadata": {},
   "outputs": [
    {
     "data": {
      "text/html": [
       "<table>\n",
       "    <thead>\n",
       "        <tr>\n",
       "            <th>Count</th>\n",
       "        </tr>\n",
       "    </thead>\n",
       "    <tbody>\n",
       "    </tbody>\n",
       "</table>"
      ],
      "text/plain": [
       "+-------+\n",
       "| Count |\n",
       "+-------+\n",
       "+-------+"
      ]
     },
     "execution_count": 8,
     "metadata": {},
     "output_type": "execute_result"
    }
   ],
   "source": [
    "%%sql\n",
    "\n",
    "CREATE TABLE pokemon__masterdata(\n",
    "    pokemon_id INTEGER PRIMARY KEY NOT NULL,\n",
    "    pokemon_name VARCHAR,\n",
    "    pokemon_type VARCHAR\n",
    "    );"
   ]
  },
  {
   "cell_type": "markdown",
   "metadata": {},
   "source": [
    "And than we can load the data into the table:"
   ]
  },
  {
   "cell_type": "code",
   "execution_count": 11,
   "metadata": {},
   "outputs": [
    {
     "data": {
      "text/html": [
       "<table>\n",
       "    <thead>\n",
       "        <tr>\n",
       "            <th>Count</th>\n",
       "        </tr>\n",
       "    </thead>\n",
       "    <tbody>\n",
       "    </tbody>\n",
       "</table>"
      ],
      "text/plain": [
       "+-------+\n",
       "| Count |\n",
       "+-------+\n",
       "+-------+"
      ]
     },
     "execution_count": 11,
     "metadata": {},
     "output_type": "execute_result"
    }
   ],
   "source": [
    "%%sql\n",
    "\n",
    "COPY pokemon__masterdata FROM 'data/pokemon__masterdata.csv' (HEADER TRUE, DELIMITER ',');"
   ]
  },
  {
   "cell_type": "markdown",
   "metadata": {},
   "source": [
    "## Querying the database and exporting the results\n",
    "\n",
    "So now we created the tables and loaded the data into the database we can query the database using SQL. Let's start with the donations table:"
   ]
  },
  {
   "cell_type": "code",
   "execution_count": 12,
   "metadata": {},
   "outputs": [
    {
     "data": {
      "text/html": [
       "<table>\n",
       "    <thead>\n",
       "        <tr>\n",
       "            <th>pokemon_id</th>\n",
       "            <th>donation_date</th>\n",
       "            <th>donation_number_of_pokemon</th>\n",
       "            <th>donation_amount_eur</th>\n",
       "        </tr>\n",
       "    </thead>\n",
       "    <tbody>\n",
       "        <tr>\n",
       "            <td>195</td>\n",
       "            <td>2023-12-21</td>\n",
       "            <td>4</td>\n",
       "            <td>85.6</td>\n",
       "        </tr>\n",
       "        <tr>\n",
       "            <td>251</td>\n",
       "            <td>2023-12-28</td>\n",
       "            <td>74</td>\n",
       "            <td>6569.72</td>\n",
       "        </tr>\n",
       "        <tr>\n",
       "            <td>27</td>\n",
       "            <td>2023-12-30</td>\n",
       "            <td>24</td>\n",
       "            <td>1734.24</td>\n",
       "        </tr>\n",
       "        <tr>\n",
       "            <td>267</td>\n",
       "            <td>2023-12-13</td>\n",
       "            <td>36</td>\n",
       "            <td>3584.16</td>\n",
       "        </tr>\n",
       "        <tr>\n",
       "            <td>511</td>\n",
       "            <td>2023-12-06</td>\n",
       "            <td>74</td>\n",
       "            <td>2797.2</td>\n",
       "        </tr>\n",
       "        <tr>\n",
       "            <td>430</td>\n",
       "            <td>2023-12-02</td>\n",
       "            <td>77</td>\n",
       "            <td>6303.99</td>\n",
       "        </tr>\n",
       "        <tr>\n",
       "            <td>607</td>\n",
       "            <td>2023-12-17</td>\n",
       "            <td>51</td>\n",
       "            <td>783.87</td>\n",
       "        </tr>\n",
       "        <tr>\n",
       "            <td>458</td>\n",
       "            <td>2023-12-13</td>\n",
       "            <td>70</td>\n",
       "            <td>5184.2</td>\n",
       "        </tr>\n",
       "        <tr>\n",
       "            <td>719</td>\n",
       "            <td>2023-12-23</td>\n",
       "            <td>18</td>\n",
       "            <td>1312.56</td>\n",
       "        </tr>\n",
       "        <tr>\n",
       "            <td>291</td>\n",
       "            <td>2023-12-21</td>\n",
       "            <td>80</td>\n",
       "            <td>996.0</td>\n",
       "        </tr>\n",
       "    </tbody>\n",
       "</table>\n",
       "<span style=\"font-style:italic;text-align:center;\">Truncated to <a href=\"https://jupysql.ploomber.io/en/latest/api/configuration.html#displaylimit\">displaylimit</a> of 10.</span>"
      ],
      "text/plain": [
       "+------------+---------------+----------------------------+---------------------+\n",
       "| pokemon_id | donation_date | donation_number_of_pokemon | donation_amount_eur |\n",
       "+------------+---------------+----------------------------+---------------------+\n",
       "|    195     |   2023-12-21  |             4              |         85.6        |\n",
       "|    251     |   2023-12-28  |             74             |       6569.72       |\n",
       "|     27     |   2023-12-30  |             24             |       1734.24       |\n",
       "|    267     |   2023-12-13  |             36             |       3584.16       |\n",
       "|    511     |   2023-12-06  |             74             |        2797.2       |\n",
       "|    430     |   2023-12-02  |             77             |       6303.99       |\n",
       "|    607     |   2023-12-17  |             51             |        783.87       |\n",
       "|    458     |   2023-12-13  |             70             |        5184.2       |\n",
       "|    719     |   2023-12-23  |             18             |       1312.56       |\n",
       "|    291     |   2023-12-21  |             80             |        996.0        |\n",
       "+------------+---------------+----------------------------+---------------------+\n",
       "Truncated to displaylimit of 10."
      ]
     },
     "execution_count": 12,
     "metadata": {},
     "output_type": "execute_result"
    }
   ],
   "source": [
    "%%sql\n",
    "\n",
    "select * from pokemon__donations"
   ]
  },
  {
   "cell_type": "code",
   "execution_count": 13,
   "metadata": {},
   "outputs": [
    {
     "data": {
      "text/html": [
       "<table>\n",
       "    <thead>\n",
       "        <tr>\n",
       "            <th>pokemon_id</th>\n",
       "            <th>pokemon_name</th>\n",
       "            <th>pokemon_type</th>\n",
       "        </tr>\n",
       "    </thead>\n",
       "    <tbody>\n",
       "        <tr>\n",
       "            <td>1</td>\n",
       "            <td>Bulbasaur</td>\n",
       "            <td>grass</td>\n",
       "        </tr>\n",
       "        <tr>\n",
       "            <td>2</td>\n",
       "            <td>Ivysaur</td>\n",
       "            <td>grass</td>\n",
       "        </tr>\n",
       "        <tr>\n",
       "            <td>3</td>\n",
       "            <td>Venusaur</td>\n",
       "            <td>grass</td>\n",
       "        </tr>\n",
       "        <tr>\n",
       "            <td>4</td>\n",
       "            <td>Charmander</td>\n",
       "            <td>fire</td>\n",
       "        </tr>\n",
       "        <tr>\n",
       "            <td>5</td>\n",
       "            <td>Charmeleon</td>\n",
       "            <td>fire</td>\n",
       "        </tr>\n",
       "        <tr>\n",
       "            <td>6</td>\n",
       "            <td>Charizard</td>\n",
       "            <td>fire</td>\n",
       "        </tr>\n",
       "        <tr>\n",
       "            <td>7</td>\n",
       "            <td>Squirtle</td>\n",
       "            <td>water</td>\n",
       "        </tr>\n",
       "        <tr>\n",
       "            <td>8</td>\n",
       "            <td>Wartortle</td>\n",
       "            <td>water</td>\n",
       "        </tr>\n",
       "        <tr>\n",
       "            <td>9</td>\n",
       "            <td>Blastoise</td>\n",
       "            <td>water</td>\n",
       "        </tr>\n",
       "        <tr>\n",
       "            <td>10</td>\n",
       "            <td>Caterpie</td>\n",
       "            <td>bug</td>\n",
       "        </tr>\n",
       "    </tbody>\n",
       "</table>\n",
       "<span style=\"font-style:italic;text-align:center;\">Truncated to <a href=\"https://jupysql.ploomber.io/en/latest/api/configuration.html#displaylimit\">displaylimit</a> of 10.</span>"
      ],
      "text/plain": [
       "+------------+--------------+--------------+\n",
       "| pokemon_id | pokemon_name | pokemon_type |\n",
       "+------------+--------------+--------------+\n",
       "|     1      |  Bulbasaur   |    grass     |\n",
       "|     2      |   Ivysaur    |    grass     |\n",
       "|     3      |   Venusaur   |    grass     |\n",
       "|     4      |  Charmander  |     fire     |\n",
       "|     5      |  Charmeleon  |     fire     |\n",
       "|     6      |  Charizard   |     fire     |\n",
       "|     7      |   Squirtle   |    water     |\n",
       "|     8      |  Wartortle   |    water     |\n",
       "|     9      |  Blastoise   |    water     |\n",
       "|     10     |   Caterpie   |     bug      |\n",
       "+------------+--------------+--------------+\n",
       "Truncated to displaylimit of 10."
      ]
     },
     "execution_count": 13,
     "metadata": {},
     "output_type": "execute_result"
    }
   ],
   "source": [
    "%%sql\n",
    "\n",
    "select * from pokemon__masterdata"
   ]
  },
  {
   "cell_type": "markdown",
   "metadata": {},
   "source": [
    "We could now join the donations table with the pokemon table to get the pokemon names for the donations. And export the result to a pandas dataframe:"
   ]
  },
  {
   "cell_type": "code",
   "execution_count": 20,
   "metadata": {},
   "outputs": [],
   "source": [
    "%%sql\n",
    "\n",
    "df_join << SELECT * FROM pokemon__donations \n",
    "LEFT JOIN pokemon__masterdata \n",
    "ON pokemon__donations.pokemon_id = pokemon__masterdata.pokemon_id"
   ]
  },
  {
   "cell_type": "code",
   "execution_count": 21,
   "metadata": {},
   "outputs": [
    {
     "data": {
      "text/html": [
       "<div>\n",
       "<style scoped>\n",
       "    .dataframe tbody tr th:only-of-type {\n",
       "        vertical-align: middle;\n",
       "    }\n",
       "\n",
       "    .dataframe tbody tr th {\n",
       "        vertical-align: top;\n",
       "    }\n",
       "\n",
       "    .dataframe thead th {\n",
       "        text-align: right;\n",
       "    }\n",
       "</style>\n",
       "<table border=\"1\" class=\"dataframe\">\n",
       "  <thead>\n",
       "    <tr style=\"text-align: right;\">\n",
       "      <th></th>\n",
       "      <th>pokemon_id</th>\n",
       "      <th>donation_date</th>\n",
       "      <th>donation_number_of_pokemon</th>\n",
       "      <th>donation_amount_eur</th>\n",
       "      <th>pokemon_id_2</th>\n",
       "      <th>pokemon_name</th>\n",
       "      <th>pokemon_type</th>\n",
       "    </tr>\n",
       "  </thead>\n",
       "  <tbody>\n",
       "    <tr>\n",
       "      <th>0</th>\n",
       "      <td>195</td>\n",
       "      <td>2023-12-21</td>\n",
       "      <td>4</td>\n",
       "      <td>85.60</td>\n",
       "      <td>195</td>\n",
       "      <td>Quagsire</td>\n",
       "      <td>water</td>\n",
       "    </tr>\n",
       "    <tr>\n",
       "      <th>1</th>\n",
       "      <td>251</td>\n",
       "      <td>2023-12-28</td>\n",
       "      <td>74</td>\n",
       "      <td>6569.72</td>\n",
       "      <td>251</td>\n",
       "      <td>Celebi</td>\n",
       "      <td>psychic</td>\n",
       "    </tr>\n",
       "    <tr>\n",
       "      <th>2</th>\n",
       "      <td>27</td>\n",
       "      <td>2023-12-30</td>\n",
       "      <td>24</td>\n",
       "      <td>1734.24</td>\n",
       "      <td>27</td>\n",
       "      <td>Sandshrew</td>\n",
       "      <td>ground</td>\n",
       "    </tr>\n",
       "    <tr>\n",
       "      <th>3</th>\n",
       "      <td>267</td>\n",
       "      <td>2023-12-13</td>\n",
       "      <td>36</td>\n",
       "      <td>3584.16</td>\n",
       "      <td>267</td>\n",
       "      <td>Beautifly</td>\n",
       "      <td>bug</td>\n",
       "    </tr>\n",
       "    <tr>\n",
       "      <th>4</th>\n",
       "      <td>511</td>\n",
       "      <td>2023-12-06</td>\n",
       "      <td>74</td>\n",
       "      <td>2797.20</td>\n",
       "      <td>511</td>\n",
       "      <td>Pansage</td>\n",
       "      <td>grass</td>\n",
       "    </tr>\n",
       "  </tbody>\n",
       "</table>\n",
       "</div>"
      ],
      "text/plain": [
       "   pokemon_id donation_date  donation_number_of_pokemon  donation_amount_eur  \\\n",
       "0         195    2023-12-21                           4                85.60   \n",
       "1         251    2023-12-28                          74              6569.72   \n",
       "2          27    2023-12-30                          24              1734.24   \n",
       "3         267    2023-12-13                          36              3584.16   \n",
       "4         511    2023-12-06                          74              2797.20   \n",
       "\n",
       "   pokemon_id_2 pokemon_name pokemon_type  \n",
       "0           195     Quagsire        water  \n",
       "1           251       Celebi      psychic  \n",
       "2            27    Sandshrew       ground  \n",
       "3           267    Beautifly          bug  \n",
       "4           511      Pansage        grass  "
      ]
     },
     "execution_count": 21,
     "metadata": {},
     "output_type": "execute_result"
    }
   ],
   "source": [
    "df_join = df_join.DataFrame()\n",
    "df_join.head()"
   ]
  },
  {
   "cell_type": "markdown",
   "metadata": {},
   "source": [
    "Or we could save the result to a csv file:"
   ]
  },
  {
   "cell_type": "code",
   "execution_count": 22,
   "metadata": {},
   "outputs": [
    {
     "data": {
      "text/html": [
       "<table>\n",
       "    <thead>\n",
       "        <tr>\n",
       "            <th>Count</th>\n",
       "        </tr>\n",
       "    </thead>\n",
       "    <tbody>\n",
       "    </tbody>\n",
       "</table>"
      ],
      "text/plain": [
       "+-------+\n",
       "| Count |\n",
       "+-------+\n",
       "+-------+"
      ]
     },
     "execution_count": 22,
     "metadata": {},
     "output_type": "execute_result"
    }
   ],
   "source": [
    "%%sql\n",
    "\n",
    "COPY(\n",
    "    SELECT * FROM pokemon__donations \n",
    "    LEFT JOIN pokemon__masterdata \n",
    "    ON pokemon__donations.pokemon_id = pokemon__masterdata.pokemon_id\n",
    ")\n",
    "TO 'data/output.csv' (HEADER, DELIMITER ',');"
   ]
  },
  {
   "cell_type": "markdown",
   "metadata": {},
   "source": [
    "## Why should you use DuckDB over Pandas? \n",
    "\n",
    "You shouldn't (except you like SQL more than Python). But you can use DuckDB in combination with Pandas. So you can combine the power of DuckDB and the power of Pandas."
   ]
  }
 ],
 "metadata": {
  "kernelspec": {
   "display_name": "Python 3.9.8 ('.venv': venv)",
   "language": "python",
   "name": "python3"
  },
  "language_info": {
   "codemirror_mode": {
    "name": "ipython",
    "version": 3
   },
   "file_extension": ".py",
   "mimetype": "text/x-python",
   "name": "python",
   "nbconvert_exporter": "python",
   "pygments_lexer": "ipython3",
   "version": "3.11.3"
  },
  "orig_nbformat": 4,
  "vscode": {
   "interpreter": {
    "hash": "4df769df806b58f95ee4f09621ff8561b0141806a21b31c407df91154cbeecec"
   }
  }
 },
 "nbformat": 4,
 "nbformat_minor": 2
}
